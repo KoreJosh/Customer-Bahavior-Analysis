{
 "cells": [
  {
   "cell_type": "code",
   "execution_count": null,
   "id": "4a0f92e4",
   "metadata": {},
   "outputs": [],
   "source": []
  },
  {
   "cell_type": "code",
   "execution_count": 1,
   "id": "0e291213",
   "metadata": {},
   "outputs": [],
   "source": [
    "import pandas as pd\n",
    "import numpy as np\n",
    "import seaborn as sns\n",
    "import matplotlib.pyplot as plt\n",
    "#from sklearn.linear"
   ]
  },
  {
   "cell_type": "code",
   "execution_count": 2,
   "id": "ca30f93d",
   "metadata": {},
   "outputs": [],
   "source": [
    "df2 =pd.read_csv(r'C:\\Users\\user\\Downloads\\customer_shopping_data.csv')"
   ]
  },
  {
   "cell_type": "code",
   "execution_count": 3,
   "id": "370009f8",
   "metadata": {},
   "outputs": [
    {
     "data": {
      "text/html": [
       "<div>\n",
       "<style scoped>\n",
       "    .dataframe tbody tr th:only-of-type {\n",
       "        vertical-align: middle;\n",
       "    }\n",
       "\n",
       "    .dataframe tbody tr th {\n",
       "        vertical-align: top;\n",
       "    }\n",
       "\n",
       "    .dataframe thead th {\n",
       "        text-align: right;\n",
       "    }\n",
       "</style>\n",
       "<table border=\"1\" class=\"dataframe\">\n",
       "  <thead>\n",
       "    <tr style=\"text-align: right;\">\n",
       "      <th></th>\n",
       "      <th>invoice_no</th>\n",
       "      <th>customer_id</th>\n",
       "      <th>gender</th>\n",
       "      <th>age</th>\n",
       "      <th>Age Group</th>\n",
       "      <th>category</th>\n",
       "      <th>quantity</th>\n",
       "      <th>price</th>\n",
       "      <th>payment_method</th>\n",
       "      <th>invoice_date</th>\n",
       "      <th>shopping_mall</th>\n",
       "      <th>day_of_week</th>\n",
       "      <th>name_of_day</th>\n",
       "      <th>month</th>\n",
       "      <th>month_name</th>\n",
       "    </tr>\n",
       "  </thead>\n",
       "  <tbody>\n",
       "    <tr>\n",
       "      <th>0</th>\n",
       "      <td>I138884</td>\n",
       "      <td>C241288</td>\n",
       "      <td>Female</td>\n",
       "      <td>28</td>\n",
       "      <td>Young Adult</td>\n",
       "      <td>Clothing</td>\n",
       "      <td>5</td>\n",
       "      <td>1500.40</td>\n",
       "      <td>Credit Card</td>\n",
       "      <td>2022-08-05</td>\n",
       "      <td>Kanyon</td>\n",
       "      <td>4</td>\n",
       "      <td>Friday</td>\n",
       "      <td>8</td>\n",
       "      <td>August</td>\n",
       "    </tr>\n",
       "    <tr>\n",
       "      <th>1</th>\n",
       "      <td>I317333</td>\n",
       "      <td>C111565</td>\n",
       "      <td>Male</td>\n",
       "      <td>21</td>\n",
       "      <td>Young Adult</td>\n",
       "      <td>Shoes</td>\n",
       "      <td>3</td>\n",
       "      <td>1800.51</td>\n",
       "      <td>Debit Card</td>\n",
       "      <td>2021-12-12</td>\n",
       "      <td>Forum Istanbul</td>\n",
       "      <td>6</td>\n",
       "      <td>Sunday</td>\n",
       "      <td>12</td>\n",
       "      <td>December</td>\n",
       "    </tr>\n",
       "    <tr>\n",
       "      <th>2</th>\n",
       "      <td>I127801</td>\n",
       "      <td>C266599</td>\n",
       "      <td>Male</td>\n",
       "      <td>20</td>\n",
       "      <td>Young Adult</td>\n",
       "      <td>Clothing</td>\n",
       "      <td>1</td>\n",
       "      <td>300.08</td>\n",
       "      <td>Cash</td>\n",
       "      <td>2021-11-09</td>\n",
       "      <td>Metrocity</td>\n",
       "      <td>1</td>\n",
       "      <td>Tuesday</td>\n",
       "      <td>11</td>\n",
       "      <td>November</td>\n",
       "    </tr>\n",
       "    <tr>\n",
       "      <th>3</th>\n",
       "      <td>I173702</td>\n",
       "      <td>C988172</td>\n",
       "      <td>Female</td>\n",
       "      <td>66</td>\n",
       "      <td>Senior</td>\n",
       "      <td>Shoes</td>\n",
       "      <td>5</td>\n",
       "      <td>3000.85</td>\n",
       "      <td>Credit Card</td>\n",
       "      <td>2021-05-16</td>\n",
       "      <td>Metropol AVM</td>\n",
       "      <td>6</td>\n",
       "      <td>Sunday</td>\n",
       "      <td>5</td>\n",
       "      <td>May</td>\n",
       "    </tr>\n",
       "    <tr>\n",
       "      <th>4</th>\n",
       "      <td>I337046</td>\n",
       "      <td>C189076</td>\n",
       "      <td>Female</td>\n",
       "      <td>53</td>\n",
       "      <td>Senior</td>\n",
       "      <td>Books</td>\n",
       "      <td>4</td>\n",
       "      <td>60.60</td>\n",
       "      <td>Cash</td>\n",
       "      <td>2021-10-24</td>\n",
       "      <td>Kanyon</td>\n",
       "      <td>6</td>\n",
       "      <td>Sunday</td>\n",
       "      <td>10</td>\n",
       "      <td>October</td>\n",
       "    </tr>\n",
       "  </tbody>\n",
       "</table>\n",
       "</div>"
      ],
      "text/plain": [
       "  invoice_no customer_id  gender  age    Age Group  category  quantity  \\\n",
       "0    I138884     C241288  Female   28  Young Adult  Clothing         5   \n",
       "1    I317333     C111565    Male   21  Young Adult     Shoes         3   \n",
       "2    I127801     C266599    Male   20  Young Adult  Clothing         1   \n",
       "3    I173702     C988172  Female   66       Senior     Shoes         5   \n",
       "4    I337046     C189076  Female   53       Senior     Books         4   \n",
       "\n",
       "     price payment_method invoice_date   shopping_mall  day_of_week  \\\n",
       "0  1500.40    Credit Card   2022-08-05          Kanyon            4   \n",
       "1  1800.51     Debit Card   2021-12-12  Forum Istanbul            6   \n",
       "2   300.08           Cash   2021-11-09       Metrocity            1   \n",
       "3  3000.85    Credit Card   2021-05-16    Metropol AVM            6   \n",
       "4    60.60           Cash   2021-10-24          Kanyon            6   \n",
       "\n",
       "  name_of_day  month month_name  \n",
       "0      Friday      8     August  \n",
       "1      Sunday     12   December  \n",
       "2     Tuesday     11   November  \n",
       "3      Sunday      5        May  \n",
       "4      Sunday     10    October  "
      ]
     },
     "execution_count": 3,
     "metadata": {},
     "output_type": "execute_result"
    }
   ],
   "source": [
    "df2.head()"
   ]
  },
  {
   "cell_type": "code",
   "execution_count": 5,
   "id": "a78adafc",
   "metadata": {},
   "outputs": [
    {
     "name": "stdout",
     "output_type": "stream",
     "text": [
      "<class 'pandas.core.frame.DataFrame'>\n",
      "RangeIndex: 99457 entries, 0 to 99456\n",
      "Data columns (total 15 columns):\n",
      " #   Column          Non-Null Count  Dtype  \n",
      "---  ------          --------------  -----  \n",
      " 0   invoice_no      99457 non-null  object \n",
      " 1   customer_id     99457 non-null  object \n",
      " 2   gender          99457 non-null  object \n",
      " 3   age             99457 non-null  int64  \n",
      " 4   Age Group       99457 non-null  object \n",
      " 5   category        99457 non-null  object \n",
      " 6   quantity        99457 non-null  int64  \n",
      " 7   price           99457 non-null  float64\n",
      " 8   payment_method  99457 non-null  object \n",
      " 9   invoice_date    99457 non-null  object \n",
      " 10  shopping_mall   99457 non-null  object \n",
      " 11  day_of_week     99457 non-null  int64  \n",
      " 12  name_of_day     99457 non-null  object \n",
      " 13  month           99457 non-null  int64  \n",
      " 14  month_name      99457 non-null  object \n",
      "dtypes: float64(1), int64(4), object(10)\n",
      "memory usage: 11.4+ MB\n"
     ]
    }
   ],
   "source": [
    "df2.info()"
   ]
  },
  {
   "cell_type": "code",
   "execution_count": 6,
   "id": "edef66a8",
   "metadata": {},
   "outputs": [
    {
     "data": {
      "text/plain": [
       "invoice_no        0\n",
       "customer_id       0\n",
       "gender            0\n",
       "age               0\n",
       "Age Group         0\n",
       "category          0\n",
       "quantity          0\n",
       "price             0\n",
       "payment_method    0\n",
       "invoice_date      0\n",
       "shopping_mall     0\n",
       "day_of_week       0\n",
       "name_of_day       0\n",
       "month             0\n",
       "month_name        0\n",
       "dtype: int64"
      ]
     },
     "execution_count": 6,
     "metadata": {},
     "output_type": "execute_result"
    }
   ],
   "source": [
    "df2.isna().sum()"
   ]
  },
  {
   "cell_type": "code",
   "execution_count": null,
   "id": "46531c6e",
   "metadata": {},
   "outputs": [],
   "source": [
    "def get_age_group(age):\n",
    "    if age <= 18:\n",
    "        return 'Teenager'\n",
    "    elif age <= 30:\n",
    "        return 'Young Adult'\n",
    "    elif age <= 40:\n",
    "        return 'Adult'\n",
    "    elif age <= 50:\n",
    "        return 'Elder'\n",
    "    \n",
    "    else:\n",
    "        return 'Senior'"
   ]
  },
  {
   "cell_type": "code",
   "execution_count": null,
   "id": "c6ce8be3",
   "metadata": {},
   "outputs": [],
   "source": [
    "df2['Age Group'] = df2['age'].map(get_age_group)"
   ]
  },
  {
   "cell_type": "code",
   "execution_count": null,
   "id": "0e4aa76d",
   "metadata": {},
   "outputs": [],
   "source": [
    "#df2.drop(columns=\"Age_group\",inplace = True)\n",
    "columns = ['invoice_no', 'customer_id', 'gender', 'age', 'Age Group', 'category', 'quantity',\n",
    "       'price', 'payment_method', 'invoice_date', 'shopping_mall',\n",
    "       ]\n",
    "\n",
    "df2 = df2[columns]"
   ]
  },
  {
   "cell_type": "code",
   "execution_count": null,
   "id": "64a5e4e8",
   "metadata": {},
   "outputs": [],
   "source": [
    "df2.head()"
   ]
  },
  {
   "cell_type": "code",
   "execution_count": null,
   "id": "5db05933",
   "metadata": {},
   "outputs": [],
   "source": [
    "df2.info()"
   ]
  },
  {
   "cell_type": "code",
   "execution_count": null,
   "id": "1b7e0faf",
   "metadata": {},
   "outputs": [],
   "source": [
    "df2[\"invoice_date\"]= pd.to_datetime(df2[\"invoice_date\"], format='%d/%m/%Y')"
   ]
  },
  {
   "cell_type": "code",
   "execution_count": null,
   "id": "bef961ee",
   "metadata": {},
   "outputs": [],
   "source": [
    "df2['day_of_week'] = df2['invoice_date'].dt.dayofweek"
   ]
  },
  {
   "cell_type": "code",
   "execution_count": null,
   "id": "4539c66f",
   "metadata": {},
   "outputs": [],
   "source": [
    "df2.head()"
   ]
  },
  {
   "cell_type": "code",
   "execution_count": null,
   "id": "e411d6c6",
   "metadata": {},
   "outputs": [],
   "source": [
    "df2.day_of_week.unique()"
   ]
  },
  {
   "cell_type": "code",
   "execution_count": null,
   "id": "5244f063",
   "metadata": {},
   "outputs": [],
   "source": [
    "df2['month'] = df2['invoice_date'].dt.month"
   ]
  },
  {
   "cell_type": "code",
   "execution_count": null,
   "id": "41512c25",
   "metadata": {},
   "outputs": [],
   "source": [
    "df2[\"name_of_day\"]=df2[\"day_of_week\"].map({6: 'Sunday', 0:'Monday', 1:'Tuesday',\n",
    "                                           2:'Wednesday',3:'Thursday',4:'Friday',5:'Saturday'})"
   ]
  },
  {
   "cell_type": "code",
   "execution_count": null,
   "id": "f5c1198a",
   "metadata": {},
   "outputs": [],
   "source": [
    "df2.head()"
   ]
  },
  {
   "cell_type": "code",
   "execution_count": null,
   "id": "33887f5e",
   "metadata": {},
   "outputs": [],
   "source": []
  },
  {
   "cell_type": "code",
   "execution_count": null,
   "id": "9ec3692d",
   "metadata": {},
   "outputs": [],
   "source": [
    "df2['month_name'] =df2['month'].map({1:'January',2:'Feburary',3:'March',4:'April',5:'May',6:'June',7:'July',\n",
    "                                     8:'August',9:'September',10:'October',11:'November',12:'December'})"
   ]
  },
  {
   "cell_type": "code",
   "execution_count": null,
   "id": "f16099f0",
   "metadata": {},
   "outputs": [],
   "source": [
    "df2.head()"
   ]
  },
  {
   "cell_type": "code",
   "execution_count": null,
   "id": "eee82f17",
   "metadata": {},
   "outputs": [],
   "source": [
    "df2.to_csv(r'C:\\Users\\user\\Downloads\\Customer_Shopping_data.csv',index=False)"
   ]
  },
  {
   "cell_type": "code",
   "execution_count": null,
   "id": "3b686ea7",
   "metadata": {},
   "outputs": [],
   "source": []
  }
 ],
 "metadata": {
  "kernelspec": {
   "display_name": "Python 3 (ipykernel)",
   "language": "python",
   "name": "python3"
  },
  "language_info": {
   "codemirror_mode": {
    "name": "ipython",
    "version": 3
   },
   "file_extension": ".py",
   "mimetype": "text/x-python",
   "name": "python",
   "nbconvert_exporter": "python",
   "pygments_lexer": "ipython3",
   "version": "3.11.5"
  }
 },
 "nbformat": 4,
 "nbformat_minor": 5
}
